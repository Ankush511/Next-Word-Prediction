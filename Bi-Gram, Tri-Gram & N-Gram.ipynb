{
 "cells": [
  {
   "cell_type": "code",
   "execution_count": 1,
   "id": "7d26a5ae-7fcb-4d78-8201-290c81516708",
   "metadata": {},
   "outputs": [],
   "source": [
    "import re\n",
    "import numpy as np\n",
    "import pandas as pd\n",
    "from tqdm import tqdm \n",
    "\n",
    "\n",
    "with open('big.txt','r') as fd:\n",
    "    lines = fd.readlines()\n",
    "    words = []\n",
    "    for line in lines:\n",
    "        words += re.findall('\\w+', line.lower())"
   ]
  },
  {
   "cell_type": "markdown",
   "id": "e5f57055-6b29-484e-80e6-e26728e6dce7",
   "metadata": {},
   "source": [
    "## <b/> Finding the Pairs"
   ]
  },
  {
   "cell_type": "code",
   "execution_count": 2,
   "id": "d735c95b-7eba-45f2-b36d-4af4fe96aa08",
   "metadata": {},
   "outputs": [],
   "source": [
    "def get_pairs(words, n):\n",
    "    n = n+1  \n",
    "    data = []\n",
    "    for i in range(len(words) - n):\n",
    "        data.append(' '.join(words[i:i+n]))\n",
    "    return data"
   ]
  },
  {
   "cell_type": "markdown",
   "id": "a28c845c-4561-4f7e-a817-6eb4cfd7087d",
   "metadata": {},
   "source": [
    "## <b/> Finding Occurence Probabilities"
   ]
  },
  {
   "cell_type": "code",
   "execution_count": 3,
   "id": "29056ff3-aee3-4fe5-a0db-20e099084178",
   "metadata": {},
   "outputs": [],
   "source": [
    "def get_prob_dist(data):\n",
    "    \n",
    "    a = np.array(data)\n",
    "\n",
    "    pair , count = np.unique(a, return_counts = True)\n",
    "    unique_pairs = list(set(data))\n",
    "\n",
    "    prob_dist = []\n",
    "\n",
    "    for i in range(len(unique_pairs)):\n",
    "        prob_dist.append([unique_pairs[i] , ' '.join(unique_pairs[i].split(' ')[:-1]), unique_pairs[i].split(' ')[-1], count[i]])\n",
    "\n",
    "    return prob_dist"
   ]
  },
  {
   "cell_type": "code",
   "execution_count": 4,
   "id": "6bcebb41-96b7-4544-828b-14c966ae74c8",
   "metadata": {},
   "outputs": [],
   "source": [
    "data = get_pairs(words,4)\n",
    "prob_dist = get_prob_dist(data)"
   ]
  },
  {
   "cell_type": "markdown",
   "id": "a7c81ebf-9f94-471c-b165-e72c58e9ef6e",
   "metadata": {},
   "source": [
    "## <b/> Predicting the Words"
   ]
  },
  {
   "cell_type": "code",
   "execution_count": 5,
   "id": "27293812-5cf2-44cf-bc57-b6a5cbadaec4",
   "metadata": {},
   "outputs": [
    {
     "data": {
      "text/plain": [
       "array(['country'], dtype=object)"
      ]
     },
     "execution_count": 5,
     "metadata": {},
     "output_type": "execute_result"
    }
   ],
   "source": [
    "df = pd.DataFrame(prob_dist, columns = ['seq','inp','out','freq'])\n",
    "df.head()\n",
    "\n",
    "\n",
    "def predict(word):\n",
    "\n",
    "    if len(df[df['inp'] == word]):\n",
    "        df_ = df[df['inp'] == word]\n",
    "        return df_.sort_values(by = 'freq').head()['out'].values\n",
    "    else:\n",
    "        print('Seq is not present')\n",
    "        \n",
    "predict('this is a beautiful')"
   ]
  },
  {
   "cell_type": "markdown",
   "id": "704ec047-a5dd-46e2-b5c3-66b4efe9caf2",
   "metadata": {},
   "source": [
    "## <b/> Predict One Word"
   ]
  },
  {
   "cell_type": "code",
   "execution_count": 6,
   "id": "3f188728-d239-47c3-ab82-05f657c27b76",
   "metadata": {},
   "outputs": [
    {
     "name": "stdout",
     "output_type": "stream",
     "text": [
      "Seq is not present\n"
     ]
    }
   ],
   "source": [
    "predict('the is a beautiful')"
   ]
  },
  {
   "cell_type": "markdown",
   "id": "302aba78-411b-4146-8c39-ddb4665f8d51",
   "metadata": {},
   "source": [
    "## <b/> Prediction with Auto Sequencing"
   ]
  },
  {
   "cell_type": "code",
   "execution_count": 7,
   "id": "7f778ff4-243c-41f0-843e-788fad64998f",
   "metadata": {},
   "outputs": [
    {
     "data": {
      "text/plain": [
       "'of the united states great britain france italy and japan this was later reduced to five members then japan dropped out and finally italy leaving only president wilson and the world war chapter xxi the evolution of republican policies 1901 1913 507 foreign affairs 508 colonial administration 515 the roosevelt domestic policies social questions'"
      ]
     },
     "execution_count": 7,
     "metadata": {},
     "output_type": "execute_result"
    }
   ],
   "source": [
    "def pred_seq(seq,n):\n",
    "\n",
    "    output = []\n",
    "    output.append(seq)\n",
    "\n",
    "    for i in range(n):\n",
    "\n",
    "        pred = predict(seq)\n",
    "        seq = ' '.join(seq.split(' ')[1:]) + ' ' + pred[0]\n",
    "        output.append(pred[0])\n",
    "        \n",
    "    return ' '.join(output)\n",
    "    \n",
    "pred_seq('of the united states', 50)"
   ]
  },
  {
   "cell_type": "code",
   "execution_count": null,
   "id": "39d7e043-9f17-4d8e-873f-9e78f7eb30c0",
   "metadata": {},
   "outputs": [],
   "source": []
  }
 ],
 "metadata": {
  "kernelspec": {
   "display_name": "Python 3 (ipykernel)",
   "language": "python",
   "name": "python3"
  },
  "language_info": {
   "codemirror_mode": {
    "name": "ipython",
    "version": 3
   },
   "file_extension": ".py",
   "mimetype": "text/x-python",
   "name": "python",
   "nbconvert_exporter": "python",
   "pygments_lexer": "ipython3",
   "version": "3.11.8"
  }
 },
 "nbformat": 4,
 "nbformat_minor": 5
}
