{
 "cells": [
  {
   "cell_type": "code",
   "execution_count": 1,
   "id": "acff44ce-ecb5-4fa3-b321-1e2d58b9decc",
   "metadata": {},
   "outputs": [],
   "source": [
    "import re\n",
    "import numpy as np\n",
    "import pandas as pd\n",
    "from tqdm import tqdm"
   ]
  },
  {
   "cell_type": "code",
   "execution_count": 2,
   "id": "f9515159-7489-427e-9275-25ebbcac67a9",
   "metadata": {},
   "outputs": [],
   "source": [
    "with open('big.txt', 'r') as fd:\n",
    "    lines = fd.readlines()\n",
    "\n",
    "    words = []\n",
    "    for line in lines:\n",
    "        words += re.findall('\\w+', line.lower())"
   ]
  },
  {
   "cell_type": "markdown",
   "id": "d48f74b2-c603-4e46-9db7-f45bc10e3d87",
   "metadata": {},
   "source": [
    "## <b/> Finding Pairs"
   ]
  },
  {
   "cell_type": "code",
   "execution_count": 3,
   "id": "00d50320-6196-4b9a-b908-d79472218d90",
   "metadata": {},
   "outputs": [],
   "source": [
    "def get_pairs(words):\n",
    "    data = []\n",
    "    for i in range(len(words)-1):\n",
    "        data.append(' '.join(words[i : i+2]))\n",
    "    return data\n",
    "\n",
    "data = get_pairs(words)"
   ]
  },
  {
   "cell_type": "markdown",
   "id": "1f40e612-eb1c-4ac6-aa17-0e77453c5b55",
   "metadata": {},
   "source": [
    "## <b/>Finding Occurence Probabilities"
   ]
  },
  {
   "cell_type": "code",
   "execution_count": 4,
   "id": "9ce10967-d3e4-4e38-b327-5465b8733812",
   "metadata": {},
   "outputs": [
    {
     "name": "stdout",
     "output_type": "stream",
     "text": [
      "------------------------------\n",
      "Total Pairs :  1115584\n",
      "Unique Pairs :  390694\n",
      "------------------------------\n"
     ]
    }
   ],
   "source": [
    "# print('-'*30)\n",
    "\n",
    "# print('Total Pairs : ', len(data))\n",
    "# unique_pairs = list(set(data))\n",
    "# print('Unique Pairs : ', len(unique_pairs))\n",
    "# print('-'*30)\n",
    "\n",
    "# prob_dist = []\n",
    "\n",
    "# for pair in tqdm(unique_pairs):\n",
    "#     prob_dist.append([pair, data.count(pair)])\n",
    "\n",
    "a = np.array(data)\n",
    "pair, count = np.unique(a, return_counts=True)\n",
    "\n",
    "print('-'*30)\n",
    "print('Total Pairs : ', len(data))\n",
    "print('Unique Pairs : ', len(pair))\n",
    "print('-'*30)"
   ]
  },
  {
   "cell_type": "code",
   "execution_count": 5,
   "id": "166c6fb9-943d-4ade-94c4-1e6b2a220826",
   "metadata": {},
   "outputs": [
    {
     "name": "stdout",
     "output_type": "stream",
     "text": [
      "390694\n"
     ]
    }
   ],
   "source": [
    "prob_dist = []\n",
    "\n",
    "for i in range(len(pair)):\n",
    "    prob_dist.append([pair[i], count[i], pair[i].split(' ')[-1]])\n",
    "\n",
    "print(len(prob_dist))"
   ]
  },
  {
   "cell_type": "markdown",
   "id": "f0073ac8-7f7f-44a9-8c64-199f43af7886",
   "metadata": {},
   "source": [
    "## <b/> Making the DataFrame"
   ]
  },
  {
   "cell_type": "code",
   "execution_count": 9,
   "id": "33a301d0-ffcd-43fb-b6fc-df13cd437854",
   "metadata": {},
   "outputs": [],
   "source": [
    "df = pd.DataFrame(prob_dist, columns=['pair', 'freq', 'out'])\n",
    "df = df[df['freq'] >= 5]"
   ]
  },
  {
   "cell_type": "markdown",
   "id": "4a1eb63a-a601-4056-8cb8-0c2f5e196dc0",
   "metadata": {},
   "source": [
    "## <b/> Prediction for one Word"
   ]
  },
  {
   "cell_type": "code",
   "execution_count": 10,
   "id": "e0f19f5f-f5ec-4062-92cd-5250900a1b8f",
   "metadata": {},
   "outputs": [],
   "source": [
    "def predict(word):\n",
    "    df_pred = []\n",
    "    for i in df.values:\n",
    "        if i[0].split(' ')[0] == word:\n",
    "            df_pred.append([i[0], i[1], i[2]])\n",
    "\n",
    "    df_pred = pd.DataFrame(df_pred, columns = ['in','freq','out'])\n",
    "    return list(df_pred.sort_values(by = 'freq', ascending = False).head()['out'].values)"
   ]
  },
  {
   "cell_type": "code",
   "execution_count": 8,
   "id": "5df5289c-90ad-408e-ba6b-fcc726b0e251",
   "metadata": {},
   "outputs": [
    {
     "data": {
      "text/plain": [
       "['is', 'was', 'way', 'and', 'time']"
      ]
     },
     "execution_count": 8,
     "metadata": {},
     "output_type": "execute_result"
    }
   ],
   "source": [
    "predict('this')"
   ]
  },
  {
   "cell_type": "markdown",
   "id": "1bbaa03f-1388-4a69-a1d9-1c64ae5840f0",
   "metadata": {},
   "source": [
    "## <b/> Prediction with Auto Sequencing"
   ]
  },
  {
   "cell_type": "code",
   "execution_count": 11,
   "id": "3c1713be-f58b-4fbf-943c-4a9e499515a9",
   "metadata": {},
   "outputs": [
    {
     "name": "stdout",
     "output_type": "stream",
     "text": [
      "of the same time to the same time to the same time to the same time to the same time "
     ]
    }
   ],
   "source": [
    "word = 'one'\n",
    "\n",
    "for i in range(20):\n",
    "\n",
    "    pred = predict(word)\n",
    "    word = pred[0]\n",
    "    \n",
    "    print(word, end = ' ')"
   ]
  },
  {
   "cell_type": "markdown",
   "id": "2385c273-e9e5-47f9-853c-339aeb96a6a7",
   "metadata": {},
   "source": [
    "## <b/> Prediction with Manual Sequencing"
   ]
  },
  {
   "cell_type": "code",
   "execution_count": 15,
   "id": "01f29d2e-c94f-4a7e-bbc4-46d036ed2409",
   "metadata": {},
   "outputs": [
    {
     "name": "stdout",
     "output_type": "stream",
     "text": [
      "['is', 'was', 'way', 'and', 'time']\n"
     ]
    },
    {
     "name": "stdin",
     "output_type": "stream",
     "text": [
      "Enter the Index :  3\n"
     ]
    },
    {
     "name": "stdout",
     "output_type": "stream",
     "text": [
      "['the', 'a', 'in', 'that', 'he']\n"
     ]
    },
    {
     "name": "stdin",
     "output_type": "stream",
     "text": [
      "Enter the Index :  2\n"
     ]
    },
    {
     "name": "stdout",
     "output_type": "stream",
     "text": [
      "['the', 'a', 'his', 'which', 'this']\n"
     ]
    },
    {
     "name": "stdin",
     "output_type": "stream",
     "text": [
      "Enter the Index :  0\n"
     ]
    },
    {
     "name": "stdout",
     "output_type": "stream",
     "text": [
      "['same', 'french', 'first', 'old', 'emperor']\n"
     ]
    },
    {
     "name": "stdin",
     "output_type": "stream",
     "text": [
      "Enter the Index :  2\n"
     ]
    },
    {
     "name": "stdout",
     "output_type": "stream",
     "text": [
      "['time', 'to', 'of', 'and', 'place']\n"
     ]
    },
    {
     "name": "stdin",
     "output_type": "stream",
     "text": [
      "Enter the Index :  0\n"
     ]
    },
    {
     "name": "stdout",
     "output_type": "stream",
     "text": [
      "--------------------\n",
      "this and in the first time\n",
      "--------------------\n"
     ]
    }
   ],
   "source": [
    "word = 'this'\n",
    "\n",
    "preds = []\n",
    "preds.append(word)\n",
    "\n",
    "for i in range(5):\n",
    "\n",
    "    pred = predict(word)\n",
    "    print(pred)\n",
    "    word = pred[int(input('Enter the Index : '))]\n",
    "    preds.append(word)\n",
    "    \n",
    "print('-'*20)\n",
    "print(' '.join(preds))\n",
    "print('-'*20)"
   ]
  },
  {
   "cell_type": "code",
   "execution_count": null,
   "id": "bda1133d-4a5c-458b-ae1b-4f6fe2cc96bf",
   "metadata": {},
   "outputs": [],
   "source": []
  }
 ],
 "metadata": {
  "kernelspec": {
   "display_name": "Python 3 (ipykernel)",
   "language": "python",
   "name": "python3"
  },
  "language_info": {
   "codemirror_mode": {
    "name": "ipython",
    "version": 3
   },
   "file_extension": ".py",
   "mimetype": "text/x-python",
   "name": "python",
   "nbconvert_exporter": "python",
   "pygments_lexer": "ipython3",
   "version": "3.11.8"
  }
 },
 "nbformat": 4,
 "nbformat_minor": 5
}
